{
  "nbformat": 4,
  "nbformat_minor": 0,
  "metadata": {
    "colab": {
      "name": "Cox Proportional Hazards and Random Survival Forests.ipynb",
      "provenance": []
    },
    "kernelspec": {
      "name": "python3",
      "display_name": "Python 3"
    },
    "language_info": {
      "name": "python"
    }
  },
  "cells": [
    {
      "cell_type": "code",
      "execution_count": null,
      "metadata": {
        "id": "ooagFHKOjnQu"
      },
      "outputs": [],
      "source": [
        "import sklearn\n",
        "import numpy as np\n",
        "import pandas as pd\n",
        "import matplotlib.pyplot as plt\n",
        "\n",
        "from lifelines import CoxPHFitter\n",
        "from lifelines.utils import concordance_index as cindex\n",
        "from sklearn.model_selection import train_test_split\n",
        "\n",
        "from util import load_data"
      ]
    },
    {
      "cell_type": "code",
      "source": [
        "df = load_data()\n",
        "\n",
        "print(df.shape)\n",
        "df.head()"
      ],
      "metadata": {
        "id": "pYRrHs1Ojons"
      },
      "execution_count": null,
      "outputs": []
    },
    {
      "cell_type": "code",
      "source": [
        "np.random.seed(0)\n",
        "df_dev, df_test = train_test_split(df, test_size = 0.2)\n",
        "df_train, df_val = train_test_split(df_dev, test_size = 0.25)\n",
        "\n",
        "print(\"Total number of patients:\", df.shape[0])\n",
        "print(\"Total number of patients in training set:\", df_train.shape[0])\n",
        "print(\"Total number of patients in validation set:\", df_val.shape[0])\n",
        "print(\"Total number of patients in test set:\", df_test.shape[0])"
      ],
      "metadata": {
        "id": "JFR0NsZLjoqz"
      },
      "execution_count": null,
      "outputs": []
    },
    {
      "cell_type": "code",
      "source": [
        "continuous_columns = ['age', 'bili', 'chol', 'albumin', 'copper', 'alk.phos', 'ast', 'trig', 'platelet', 'protime']\n",
        "mean = df_train.loc[:, continuous_columns].mean()\n",
        "std = df_train.loc[:, continuous_columns].std()\n",
        "df_train.loc[:, continuous_columns] = (df_train.loc[:, continuous_columns] - mean) / std\n",
        "df_val.loc[:, continuous_columns] = (df_val.loc[:, continuous_columns] - mean) / std\n",
        "df_test.loc[:, continuous_columns] = (df_test.loc[:, continuous_columns] - mean) / std"
      ],
      "metadata": {
        "id": "wmkQaRuUjoth"
      },
      "execution_count": null,
      "outputs": []
    },
    {
      "cell_type": "code",
      "source": [
        "df_train.loc[:, continuous_columns].describe()"
      ],
      "metadata": {
        "id": "VnyCSdYmjowZ"
      },
      "execution_count": null,
      "outputs": []
    },
    {
      "cell_type": "markdown",
      "source": [
        "## Cox Proportional Hazards"
      ],
      "metadata": {
        "id": "vvYflpe4j7OU"
      }
    },
    {
      "cell_type": "code",
      "source": [
        "def to_one_hot(dataframe, columns):\n",
        "    '''\n",
        "    Convert columns in dataframe to one-hot encoding.\n",
        "    Args:\n",
        "        dataframe (dataframe): pandas dataframe containing covariates\n",
        "        columns (list of strings): list categorical column names to one hot encode\n",
        "    Returns:\n",
        "        one_hot_df (dataframe): dataframe with categorical columns encoded\n",
        "                            as binary variables\n",
        "    '''\n",
        " \n",
        "    one_hot_df = pd.get_dummies(dataframe,columns=columns,dtype=np.float64,drop_first=True)\n",
        "\n",
        "    return one_hot_df"
      ],
      "metadata": {
        "id": "jqEGGmZ2joyu"
      },
      "execution_count": null,
      "outputs": []
    },
    {
      "cell_type": "code",
      "source": [
        "# List of categorical columns\n",
        "to_encode = ['edema', 'stage']\n",
        "\n",
        "one_hot_train = to_one_hot(df_train, to_encode)\n",
        "one_hot_val = to_one_hot(df_val, to_encode)\n",
        "one_hot_test = to_one_hot(df_test, to_encode)\n",
        "\n",
        "print(one_hot_val.columns.tolist())\n",
        "print(f\"There are {len(one_hot_val.columns)} columns\")"
      ],
      "metadata": {
        "id": "LyGmLXCDjo1v"
      },
      "execution_count": null,
      "outputs": []
    },
    {
      "cell_type": "code",
      "source": [
        "print(one_hot_train.shape)\n",
        "one_hot_train.head()"
      ],
      "metadata": {
        "id": "n_0IcguZjo49"
      },
      "execution_count": null,
      "outputs": []
    },
    {
      "cell_type": "markdown",
      "source": [
        "## Fitting and Interpreting a Cox Model"
      ],
      "metadata": {
        "id": "Sw_LkHR-kNA_"
      }
    },
    {
      "cell_type": "code",
      "source": [
        "cph = CoxPHFitter()\n",
        "cph.fit(one_hot_train, duration_col = 'time', event_col = 'status', step_size=0.1)\n",
        "\n",
        "cph.print_summary()"
      ],
      "metadata": {
        "id": "GsKec7SvkODA"
      },
      "execution_count": null,
      "outputs": []
    },
    {
      "cell_type": "code",
      "source": [
        "cph.plot_covariate_groups('trt', values=[0, 1])"
      ],
      "metadata": {
        "id": "E7GUCPVOkOFk"
      },
      "execution_count": null,
      "outputs": []
    },
    {
      "cell_type": "markdown",
      "source": [
        "## Hazard Ratio"
      ],
      "metadata": {
        "id": "yoXoycNDkYte"
      }
    },
    {
      "cell_type": "code",
      "source": [
        "def hazard_ratio(case_1, case_2, cox_params):\n",
        "    '''\n",
        "    Return the hazard ratio of case_1 : case_2 using\n",
        "    the coefficients of the cox model.\n",
        "    \n",
        "    Args:\n",
        "        case_1 (np.array): (1 x d) array of covariates\n",
        "        case_2 (np.array): (1 x d) array of covariates\n",
        "        model (np.array): (1 x d) array of cox model coefficients\n",
        "    Returns:\n",
        "        hazard_ratio (float): hazard ratio of case_1 : case_2\n",
        "    '''\n",
        "\n",
        "    hr = np.exp(np.dot(cox_params,(case_1 - case_2).T))\n",
        "\n",
        "    return hr"
      ],
      "metadata": {
        "id": "AbU4WzXTkOIb"
      },
      "execution_count": null,
      "outputs": []
    },
    {
      "cell_type": "code",
      "source": [
        "i = 1\n",
        "case_1 = one_hot_train.iloc[i, :].drop(['time', 'status'])\n",
        "\n",
        "j = 5\n",
        "case_2 = one_hot_train.iloc[j, :].drop(['time', 'status'])\n",
        "\n",
        "print(hazard_ratio(case_1.values, case_2.values, cph.params_.values))"
      ],
      "metadata": {
        "id": "FBHMQjZ8jo7y"
      },
      "execution_count": null,
      "outputs": []
    },
    {
      "cell_type": "code",
      "source": [
        "i = 4\n",
        "case_1 = one_hot_train.iloc[i, :].drop(['time', 'status'])\n",
        "\n",
        "j = 7\n",
        "case_2 = one_hot_train.iloc[j, :].drop(['time', 'status'])\n",
        "\n",
        "print(\"Case 1\\n\\n\", case_1, \"\\n\")\n",
        "print(\"Case 2\\n\\n\", case_2, \"\\n\")\n",
        "print(\"Hazard Ratio:\", hazard_ratio(case_1.values, case_2.values, cph.params_.values))"
      ],
      "metadata": {
        "id": "npChI9TPkhbi"
      },
      "execution_count": null,
      "outputs": []
    },
    {
      "cell_type": "markdown",
      "source": [
        "## Harrell's C-index"
      ],
      "metadata": {
        "id": "vYaLlb0akp2B"
      }
    },
    {
      "cell_type": "code",
      "source": [
        "def harrell_c(y_true, scores, event):\n",
        "    '''\n",
        "    Compute Harrel C-index given true event/censoring times,\n",
        "    model output, and event indicators.\n",
        "    \n",
        "    Args:\n",
        "        y_true (array): array of true event times\n",
        "        scores (array): model risk scores\n",
        "        event (array): indicator, 1 if event occurred at that index, 0 for censorship\n",
        "    Returns:\n",
        "        result (float): C-index metric\n",
        "    '''\n",
        "    \n",
        "    n = len(y_true)\n",
        "    assert (len(scores) == n and len(event) == n)\n",
        "    \n",
        "    concordant = 0.0\n",
        "    permissible = 0.0\n",
        "    ties = 0.0\n",
        "    \n",
        "    result = 0.0\n",
        "\n",
        "    # use double for loop to go through cases\n",
        "    for i in range(n):\n",
        "        # set lower bound on j to avoid double counting\n",
        "        for j in range(i+1, n):\n",
        "            \n",
        "            # check if at most one is censored\n",
        "            if event[i]==1 or event[j]==1:\n",
        "            \n",
        "                # check if neither are censored\n",
        "                if event[i]==1 and event[j]==1:\n",
        "                    permissible+=1\n",
        "                    \n",
        "                    # check if scores are tied\n",
        "                    if scores[i]==scores[j]:\n",
        "                        ties = ties + 1\n",
        "                    \n",
        "                    # check for concordant\n",
        "                    elif scores[i]>scores[j] and y_true[i]<y_true[j]:\n",
        "                        concordant = concordant + 1\n",
        "                    elif scores[i]<scores[j] and y_true[j]<y_true[i]:\n",
        "                        concordant = concordant + 1\n",
        "                \n",
        "                # check if one is censored\n",
        "                elif event[i]==0 or event[j]==0:\n",
        "                    \n",
        "                    # get censored index\n",
        "                    censored = j\n",
        "                    uncensored = i\n",
        "                    \n",
        "                    if event[i] == 0:\n",
        "                        censored = i\n",
        "                        uncensored = j\n",
        "                        \n",
        "                    # check if permissible\n",
        "                    # Note: in this case, we are assuming that censored at a time\n",
        "                    # means that you did NOT die at that time. That is, if you\n",
        "                    # live until time 30 and have event = 0, then you lived THROUGH\n",
        "                    # time 30.\n",
        "                    if y_true[uncensored] <= y_true[censored]:\n",
        "                        permissible +=1\n",
        "                        \n",
        "                        # check if scores are tied\n",
        "                        if scores[uncensored]==scores[censored]:\n",
        "                            # update ties \n",
        "                            ties = ties + 1\n",
        "                            \n",
        "                        # check if scores are concordant \n",
        "                        if scores[uncensored]>scores[censored]:\n",
        "                            concordant = concordant + 1\n",
        "    \n",
        "    # set result to c-index computed from number of concordant pairs,\n",
        "    # number of ties, and number of permissible pairs (REPLACE 0 with your code)  \n",
        "    result = (concordant + (0.5 * ties)) / permissible\n",
        "\n",
        "    return result"
      ],
      "metadata": {
        "id": "VgpspBpykheZ"
      },
      "execution_count": null,
      "outputs": []
    },
    {
      "cell_type": "code",
      "source": [
        "# Train\n",
        "scores = cph.predict_partial_hazard(one_hot_train)\n",
        "cox_train_scores = harrell_c(one_hot_train['time'].values, scores.values, one_hot_train['status'].values)\n",
        "# Validation\n",
        "scores = cph.predict_partial_hazard(one_hot_val)\n",
        "cox_val_scores = harrell_c(one_hot_val['time'].values, scores.values, one_hot_val['status'].values)\n",
        "# Test\n",
        "scores = cph.predict_partial_hazard(one_hot_test)\n",
        "cox_test_scores = harrell_c(one_hot_test['time'].values, scores.values, one_hot_test['status'].values)\n",
        "\n",
        "print(\"Train:\", cox_train_scores)\n",
        "print(\"Val:\", cox_val_scores)\n",
        "print(\"Test:\", cox_test_scores)"
      ],
      "metadata": {
        "id": "U2wONDt9khhY"
      },
      "execution_count": null,
      "outputs": []
    },
    {
      "cell_type": "markdown",
      "source": [
        "## FINISH"
      ],
      "metadata": {
        "id": "hGO2pVzpk9PV"
      }
    }
  ]
}