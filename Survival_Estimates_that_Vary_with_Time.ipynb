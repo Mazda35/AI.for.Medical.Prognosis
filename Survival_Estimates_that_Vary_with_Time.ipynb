{
  "nbformat": 4,
  "nbformat_minor": 0,
  "metadata": {
    "colab": {
      "name": "Survival Estimates that Vary with Time.ipynb",
      "provenance": []
    },
    "kernelspec": {
      "name": "python3",
      "display_name": "Python 3"
    },
    "language_info": {
      "name": "python"
    }
  },
  "cells": [
    {
      "cell_type": "code",
      "execution_count": null,
      "metadata": {
        "id": "iVEZ4wblrfv9"
      },
      "outputs": [],
      "source": [
        "import lifelines\n",
        "import numpy as np\n",
        "import pandas as pd\n",
        "import matplotlib.pyplot as plt\n",
        "\n",
        "from util import load_data\n",
        "\n",
        "from lifelines import KaplanMeierFitter as KM\n",
        "from lifelines.statistics import logrank_test"
      ]
    },
    {
      "cell_type": "code",
      "source": [
        "data = load_data()\n",
        "\n",
        "print(f\"data shape: {data.shape}\")\n",
        "data.head()"
      ],
      "metadata": {
        "id": "Tl5jiduDrhPN"
      },
      "execution_count": null,
      "outputs": []
    },
    {
      "cell_type": "code",
      "source": [
        "data.Time.hist()\n",
        "plt.xlabel(\"Observation time before death or censorship (days)\")\n",
        "plt.ylabel(\"Frequency (number of patients)\")"
      ],
      "metadata": {
        "id": "oWEdF5RdrhSR"
      },
      "execution_count": null,
      "outputs": []
    },
    {
      "cell_type": "code",
      "source": [
        "def frac_censored(df):\n",
        "    \"\"\"\n",
        "    Return percent of observations which were censored.\n",
        "    \n",
        "    Args:\n",
        "        df (dataframe): dataframe which contains column 'Event' which is \n",
        "                        1 if an event occurred (death)\n",
        "                        0 if the event did not occur (censored)\n",
        "    Returns:\n",
        "        frac_censored (float): fraction of cases which were censored. \n",
        "    \"\"\"\n",
        "    result = 0.0\n",
        "\n",
        "    result=(len(df['Event'])-df['Event'].sum())/len(df['Event'])\n",
        "\n",
        "    return result"
      ],
      "metadata": {
        "id": "c4P2s1OErhVR"
      },
      "execution_count": null,
      "outputs": []
    },
    {
      "cell_type": "code",
      "source": [
        "print(frac_censored(data))"
      ],
      "metadata": {
        "id": "qhop2evZrhX9"
      },
      "execution_count": null,
      "outputs": []
    },
    {
      "cell_type": "code",
      "source": [
        "df_censored = data[data.Event == 0]\n",
        "df_uncensored = data[data.Event == 1]\n",
        "\n",
        "df_censored.Time.hist()\n",
        "plt.title(\"Censored\")\n",
        "plt.xlabel(\"Time (days)\")\n",
        "plt.ylabel(\"Frequency\")\n",
        "plt.show()\n",
        "\n",
        "df_uncensored.Time.hist()\n",
        "plt.title(\"Uncensored\")\n",
        "plt.xlabel(\"Time (days)\")\n",
        "plt.ylabel(\"Frequency\")\n",
        "plt.show()"
      ],
      "metadata": {
        "id": "x9pd_Dmerz9W"
      },
      "execution_count": null,
      "outputs": []
    },
    {
      "cell_type": "code",
      "source": [
        "def naive_estimator(t, df):\n",
        "    \"\"\"\n",
        "    Return naive estimate for S(t), the probability\n",
        "    of surviving past time t. Given by number\n",
        "    of cases who survived past time t divided by the\n",
        "    number of cases who weren't censored before time t.\n",
        "    \n",
        "    Args:\n",
        "        t (int): query time\n",
        "        df (dataframe): survival data. Has a Time column,\n",
        "                        which says how long until that case\n",
        "                        experienced an event or was censored,\n",
        "                        and an Event column, which is 1 if an event\n",
        "                        was observed and 0 otherwise.\n",
        "    Returns:\n",
        "        S_t (float): estimator for survival function evaluated at t.\n",
        "    \"\"\"\n",
        "    S_t = 0.0\n",
        "\n",
        "    X_t = len(df[df[\"Time\"]>t])\n",
        "    M_t = len(df[(df[\"Time\"]>t) | (df[\"Event\"]==1)])\n",
        "    S_t = X_t/M_t\n",
        "\n",
        "    return S_t"
      ],
      "metadata": {
        "id": "JDO4-iqwr0AR"
      },
      "execution_count": null,
      "outputs": []
    },
    {
      "cell_type": "code",
      "source": [
        "max_time = data.Time.max()\n",
        "x = range(0, max_time+1)\n",
        "y = np.zeros(len(x))\n",
        "for i, t in enumerate(x):\n",
        "    y[i] = naive_estimator(t, data)\n",
        "    \n",
        "plt.plot(x, y)\n",
        "plt.title(\"Naive Survival Estimate\")\n",
        "plt.xlabel(\"Time\")\n",
        "plt.ylabel(\"Estimated cumulative survival rate\")\n",
        "plt.show()"
      ],
      "metadata": {
        "id": "GT1LOlzBr0Dd"
      },
      "execution_count": null,
      "outputs": []
    },
    {
      "cell_type": "code",
      "source": [
        "def HomemadeKM(df):\n",
        "    \"\"\"\n",
        "    Return KM estimate evaluated at every distinct\n",
        "    time (event or censored) recorded in the dataset.\n",
        "    Event times and probabilities should begin with\n",
        "    time 0 and probability 1.\n",
        "    \n",
        "    Example:\n",
        "    \n",
        "    input: \n",
        "    \n",
        "         Time  Censor\n",
        "    0     5       0\n",
        "    1    10       1\n",
        "    2    15       0\n",
        "    \n",
        "    correct output: \n",
        "    \n",
        "    event_times: [0, 5, 10, 15]\n",
        "    S: [1.0, 1.0, 0.5, 0.5]\n",
        "    \n",
        "    Args:\n",
        "        df (dataframe): dataframe which has columns for Time\n",
        "                          and Event, defined as usual.\n",
        "                          \n",
        "    Returns:\n",
        "        event_times (list of ints): array of unique event times\n",
        "                                      (begins with 0).\n",
        "        S (list of floats): array of survival probabilites, so that\n",
        "                            S[i] = P(T > event_times[i]). This \n",
        "                            begins with 1.0 (since no one dies at time\n",
        "                            0).\n",
        "    \"\"\"\n",
        "    # individuals are considered to have survival probability 1\n",
        "    # at time 0\n",
        "    event_times = [0]\n",
        "    p = 1.0\n",
        "    S = [p]\n",
        "\n",
        "    # get collection of unique observed event times\n",
        "    observed_event_times = df[\"Time\"].unique()\n",
        "  \n",
        "    # sort event times\n",
        "    observed_event_times = sorted(observed_event_times)\n",
        "    \n",
        "    # iterate through event times\n",
        "    for t in observed_event_times:\n",
        "  \n",
        "        # compute n_t, number of people who survive to time t\n",
        "        n_t = len(df[df[\"Time\"]>=t])\n",
        "  \n",
        "        # compute d_t, number of people who die at time t\n",
        "        d_t = len(df[(df[\"Time\"]==t) & (df[\"Event\"]==1)])\n",
        "        \n",
        "        # update p\n",
        "        p = p * (1 - (d_t/n_t))\n",
        "        S.append(p)\n",
        "        event_times.append(t)\n",
        "        # update S and event_times (ADD code below)\n",
        "        # hint: use append\n",
        "\n",
        "    return event_times, S"
      ],
      "metadata": {
        "id": "DiUyYQMlr0GF"
      },
      "execution_count": null,
      "outputs": []
    },
    {
      "cell_type": "code",
      "source": [
        "max_time = data.Time.max()\n",
        "x = range(0, max_time+1)\n",
        "y = np.zeros(len(x))\n",
        "for i, t in enumerate(x):\n",
        "    y[i] = naive_estimator(t, data)\n",
        "    \n",
        "plt.plot(x, y, label=\"Naive\")\n",
        "\n",
        "x, y = HomemadeKM(data)\n",
        "plt.step(x, y, label=\"Kaplan-Meier\")\n",
        "plt.xlabel(\"Time\")\n",
        "plt.ylabel(\"Survival probability estimate\")\n",
        "plt.legend()\n",
        "plt.show()"
      ],
      "metadata": {
        "id": "hYRt_XmGrhay"
      },
      "execution_count": null,
      "outputs": []
    },
    {
      "cell_type": "code",
      "source": [
        "# Subgroup Analysis\n",
        "\n",
        "S1 = data[data.Stage_group == 1]\n",
        "km1 = KM()\n",
        "km1.fit(S1.loc[:, 'Time'], event_observed = S1.loc[:, 'Event'], label = 'Stage III')\n",
        "\n",
        "S2 = data[data.Stage_group == 2]\n",
        "km2 = KM()\n",
        "km2.fit(S2.loc[:, \"Time\"], event_observed = S2.loc[:, 'Event'], label = 'Stage IV')\n",
        "\n",
        "ax = km1.plot(ci_show=False)\n",
        "km2.plot(ax = ax, ci_show=False)\n",
        "plt.xlabel('time')\n",
        "plt.ylabel('Survival probability estimate')\n",
        "plt.savefig('two_km_curves', dpi=300)"
      ],
      "metadata": {
        "id": "lq2SOHpWsOqU"
      },
      "execution_count": null,
      "outputs": []
    },
    {
      "cell_type": "code",
      "source": [
        "survivals = pd.DataFrame([90, 180, 270, 360], columns = ['time'])\n",
        "survivals.loc[:, 'Group 1'] = km1.survival_function_at_times(survivals['time']).values\n",
        "survivals.loc[:, 'Group 2'] = km2.survival_function_at_times(survivals['time']).values\n",
        "survivals"
      ],
      "metadata": {
        "id": "_ZsxkwFjsOuT"
      },
      "execution_count": null,
      "outputs": []
    },
    {
      "cell_type": "code",
      "source": [
        "def logrank_p_value(group_1_data, group_2_data):\n",
        "    result = logrank_test(group_1_data.Time, group_2_data.Time,\n",
        "                          group_1_data.Event, group_2_data.Event)\n",
        "    return result.p_value\n"
      ],
      "metadata": {
        "id": "21vfwhAksO0c"
      },
      "execution_count": null,
      "outputs": []
    },
    {
      "cell_type": "code",
      "source": [
        "logrank_p_value(S1, S2)"
      ],
      "metadata": {
        "id": "YKDOdh2SrhdR"
      },
      "execution_count": null,
      "outputs": []
    },
    {
      "cell_type": "markdown",
      "source": [
        "## FINISH"
      ],
      "metadata": {
        "id": "b2mnyw-nscKG"
      }
    }
  ]
}